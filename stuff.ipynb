{
 "cells": [
  {
   "cell_type": "code",
   "execution_count": 2,
   "metadata": {},
   "outputs": [
    {
     "name": "stderr",
     "output_type": "stream",
     "text": [
      "/home/lee-j/github/SHINE-EMNLP21/.shine/lib/python3.10/site-packages/tqdm/auto.py:21: TqdmWarning: IProgress not found. Please update jupyter and ipywidgets. See https://ipywidgets.readthedocs.io/en/stable/user_install.html\n",
      "  from .autonotebook import tqdm as notebook_tqdm\n"
     ]
    }
   ],
   "source": [
    "import datasets"
   ]
  },
  {
   "cell_type": "code",
   "execution_count": 10,
   "metadata": {},
   "outputs": [],
   "source": [
    "import json"
   ]
  },
  {
   "cell_type": "code",
   "execution_count": 3,
   "metadata": {},
   "outputs": [
    {
     "name": "stderr",
     "output_type": "stream",
     "text": [
      "Downloading builder script: 100%|██████████| 5.09k/5.09k [00:00<00:00, 9.54MB/s]\n",
      "Downloading metadata: 100%|██████████| 3.34k/3.34k [00:00<00:00, 5.83MB/s]\n",
      "Downloading readme: 100%|██████████| 10.6k/10.6k [00:00<00:00, 14.8MB/s]\n",
      "Downloading data: 100%|██████████| 336k/336k [00:00<00:00, 393kB/s]\n",
      "Downloading data: 100%|██████████| 23.4k/23.4k [00:00<00:00, 140kB/s] \n",
      "Downloading data files: 100%|██████████| 2/2 [00:05<00:00,  2.72s/it]\n",
      "Generating train split: 100%|██████████| 5452/5452 [00:00<00:00, 29770.81 examples/s]\n",
      "Generating test split: 100%|██████████| 500/500 [00:00<00:00, 24882.56 examples/s]\n"
     ]
    }
   ],
   "source": [
    "data = datasets.load_dataset(\"trec\")"
   ]
  },
  {
   "cell_type": "code",
   "execution_count": 9,
   "metadata": {},
   "outputs": [
    {
     "name": "stderr",
     "output_type": "stream",
     "text": [
      "Creating json from Arrow format: 100%|██████████| 6/6 [00:00<00:00, 269.63ba/s]\n"
     ]
    },
    {
     "data": {
      "text/plain": [
       "520661"
      ]
     },
     "execution_count": 9,
     "metadata": {},
     "output_type": "execute_result"
    }
   ],
   "source": [
    "data[\"train\"].to_json(\"./preprocess/trec_train.jsonl\")"
   ]
  },
  {
   "cell_type": "code",
   "execution_count": 16,
   "metadata": {},
   "outputs": [],
   "source": [
    "data_dict = {}\n",
    "\n",
    "for split in data:\n",
    "    split_dict = {}\n",
    "    for i in range(len(data[split])):\n",
    "        split_dict[i] = data[split][i]\n",
    "    data_dict[split] = split_dict\n",
    "        \n",
    "with open(\"./preprocess/trec_split.json\", \"w\") as f:\n",
    "    json.dump(data_dict,f)"
   ]
  },
  {
   "cell_type": "code",
   "execution_count": 13,
   "metadata": {},
   "outputs": [
    {
     "data": {
      "text/plain": [
       "5452"
      ]
     },
     "execution_count": 13,
     "metadata": {},
     "output_type": "execute_result"
    }
   ],
   "source": [
    "len(data[\"train\"])"
   ]
  },
  {
   "cell_type": "code",
   "execution_count": null,
   "metadata": {},
   "outputs": [],
   "source": []
  }
 ],
 "metadata": {
  "kernelspec": {
   "display_name": ".shine",
   "language": "python",
   "name": "python3"
  },
  "language_info": {
   "codemirror_mode": {
    "name": "ipython",
    "version": 3
   },
   "file_extension": ".py",
   "mimetype": "text/x-python",
   "name": "python",
   "nbconvert_exporter": "python",
   "pygments_lexer": "ipython3",
   "version": "3.10.12"
  },
  "orig_nbformat": 4
 },
 "nbformat": 4,
 "nbformat_minor": 2
}
