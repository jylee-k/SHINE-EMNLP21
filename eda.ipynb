{
 "cells": [
  {
   "cell_type": "markdown",
   "metadata": {},
   "source": [
    "# LREC"
   ]
  },
  {
   "cell_type": "code",
   "execution_count": 2,
   "metadata": {},
   "outputs": [],
   "source": [
    "import json"
   ]
  },
  {
   "cell_type": "code",
   "execution_count": 4,
   "metadata": {},
   "outputs": [],
   "source": [
    "train = {}\n",
    "test = {}\n",
    "with open('adhoc/lrec-train-all-terms.txt', 'r') as f:\n",
    "    idx = 0\n",
    "    for line in f:\n",
    "        sample_dict = {}\n",
    "        split_line = line.split('\\t')\n",
    "        sample_dict['text'] = split_line[1].rstrip('\\n')\n",
    "        sample_dict['label'] = int(split_line[0])\n",
    "        train[idx] = sample_dict\n",
    "        idx += 1\n",
    "with open('adhoc/lrec-test-all-terms.txt', 'r') as f:\n",
    "    idx = 0\n",
    "    for line in f:\n",
    "        sample_dict = {}\n",
    "        split_line = line.split('\\t')\n",
    "        sample_dict['text'] = split_line[1].rstrip('\\n')\n",
    "        sample_dict['label'] = int(split_line[0])\n",
    "        test[idx] = sample_dict\n",
    "        idx += 1\n",
    "\n",
    "lrec = {'train': train, 'test': test}\n",
    "with open('lrec_split.json', 'w') as f:\n",
    "    json.dump(lrec, f)\n",
    "        "
   ]
  },
  {
   "cell_type": "markdown",
   "metadata": {},
   "source": [
    "# ARC"
   ]
  },
  {
   "cell_type": "code",
   "execution_count": 5,
   "metadata": {},
   "outputs": [],
   "source": [
    "train = {}\n",
    "test = {}\n",
    "with open('adhoc/arc-train-all-terms.txt', 'r') as f:\n",
    "    idx = 0\n",
    "    for line in f:\n",
    "        sample_dict = {}\n",
    "        split_line = line.split('\\t')\n",
    "        sample_dict['text'] = split_line[1].rstrip('\\n')\n",
    "        sample_dict['label'] = int(split_line[0])\n",
    "        train[idx] = sample_dict\n",
    "        idx += 1\n",
    "with open('adhoc/arc-test-all-terms.txt', 'r') as f:\n",
    "    idx = 0\n",
    "    for line in f:\n",
    "        sample_dict = {}\n",
    "        split_line = line.split('\\t')\n",
    "        sample_dict['text'] = split_line[1].rstrip('\\n')\n",
    "        sample_dict['label'] = int(split_line[0])\n",
    "        test[idx] = sample_dict\n",
    "        idx += 1\n",
    "\n",
    "arc = {'train': train, 'test': test}\n",
    "with open('arc_split.json', 'w') as f:\n",
    "    json.dump(arc, f)"
   ]
  },
  {
   "cell_type": "markdown",
   "metadata": {},
   "source": [
    "# ARG"
   ]
  },
  {
   "cell_type": "code",
   "execution_count": 1,
   "metadata": {},
   "outputs": [],
   "source": [
    "import csv"
   ]
  },
  {
   "cell_type": "code",
   "execution_count": 6,
   "metadata": {},
   "outputs": [],
   "source": [
    "train = {}\n",
    "test = {}\n",
    "\n",
    "with open('adhoc/ARG.txt', 'r') as f1:\n",
    "    with open('adhoc/ARG_clean.csv', 'r') as f2:\n",
    "        reader = csv.reader(f2)\n",
    "        data = list(reader)\n",
    "        for line in f1:\n",
    "            sample_dict = {}\n",
    "            split_line = line.split('\\t')\n",
    "\n",
    "            sample_dict['text'] = data[int(split_line[0])][0]\n",
    "            sample_dict['label'] = int(split_line[2].rstrip('\\n'))\n",
    "            if split_line[1] == 'train':\n",
    "                train[int(split_line[0])] = sample_dict\n",
    "            else:\n",
    "                test[int(split_line[0])] = sample_dict\n",
    "\n",
    "arg = {'train': train, 'test': test}\n",
    "with open('arg_split.json', 'w') as f:\n",
    "    json.dump(arg, f)"
   ]
  },
  {
   "cell_type": "code",
   "execution_count": null,
   "metadata": {},
   "outputs": [],
   "source": [
    "train = {}\n",
    "test = {}\n",
    "with open('adhoc/arc-train-all-terms.txt', 'r') as f:\n",
    "    idx = 0\n",
    "    for line in f:\n",
    "        sample_dict = {}\n",
    "        split_line = line.split('\\t')\n",
    "        sample_dict['text'] = split_line[1].rstrip('\\n')\n",
    "        sample_dict['label'] = int(split_line[0])\n",
    "        train[idx] = sample_dict\n",
    "        idx += 1\n",
    "with open('adhoc/arc-test-all-terms.txt', 'r') as f:\n",
    "    idx = 0\n",
    "    for line in f:\n",
    "        sample_dict = {}\n",
    "        split_line = line.split('\\t')\n",
    "        sample_dict['text'] = split_line[1].rstrip('\\n')\n",
    "        sample_dict['label'] = int(split_line[0])\n",
    "        test[idx] = sample_dict\n",
    "        idx += 1\n",
    "\n",
    "arc = {'train': train, 'test': test}\n",
    "with open('arc_split.json', 'w') as f:\n",
    "    json.dump(arc, f)"
   ]
  },
  {
   "cell_type": "markdown",
   "metadata": {},
   "source": [
    "# NU"
   ]
  },
  {
   "cell_type": "code",
   "execution_count": 4,
   "metadata": {},
   "outputs": [],
   "source": [
    "train = {}\n",
    "test = {}\n",
    "with open('adhoc/nu-train-all-terms.txt', 'r') as f:\n",
    "    idx = 0\n",
    "    for line in f:\n",
    "        sample_dict = {}\n",
    "        split_line = line.split('\\t')\n",
    "        sample_dict['text'] = split_line[1].rstrip('\\n')\n",
    "        sample_dict['label'] = int(split_line[0])\n",
    "        train[idx] = sample_dict\n",
    "        idx += 1\n",
    "with open('adhoc/nu-test-all-terms.txt', 'r') as f:\n",
    "    idx = 0\n",
    "    for line in f:\n",
    "        sample_dict = {}\n",
    "        split_line = line.split('\\t')\n",
    "        sample_dict['text'] = split_line[1].rstrip('\\n')\n",
    "        sample_dict['label'] = int(split_line[0])\n",
    "        test[idx] = sample_dict\n",
    "        idx += 1\n",
    "\n",
    "nu = {'train': train, 'test': test}\n",
    "with open('nu_split.json', 'w') as f:\n",
    "    json.dump(nu, f)"
   ]
  },
  {
   "cell_type": "code",
   "execution_count": null,
   "metadata": {},
   "outputs": [],
   "source": []
  }
 ],
 "metadata": {
  "kernelspec": {
   "display_name": ".shine",
   "language": "python",
   "name": "python3"
  },
  "language_info": {
   "codemirror_mode": {
    "name": "ipython",
    "version": 3
   },
   "file_extension": ".py",
   "mimetype": "text/x-python",
   "name": "python",
   "nbconvert_exporter": "python",
   "pygments_lexer": "ipython3",
   "version": "3.10.12"
  }
 },
 "nbformat": 4,
 "nbformat_minor": 2
}
